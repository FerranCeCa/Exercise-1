{
 "cells": [
  {
   "cell_type": "code",
   "execution_count": 3,
   "id": "87e2bfed-14eb-4ac3-af29-81dbfab9b402",
   "metadata": {},
   "outputs": [],
   "source": [
    "ice_cream_rating = 10\n",
    "sleeping_rating = 9"
   ]
  },
  {
   "cell_type": "code",
   "execution_count": 11,
   "id": "2be17ea0-46d0-4802-9422-f582155106d9",
   "metadata": {},
   "outputs": [
    {
     "name": "stdin",
     "output_type": "stream",
     "text": [
      "First_Name Ferran\n",
      "Last_Name Cerdeira\n"
     ]
    }
   ],
   "source": [
    "First_name = input('First_Name')\n",
    "Last_name = input('Last_Name')\n",
    "my_name = First_name, Last_name"
   ]
  },
  {
   "cell_type": "code",
   "execution_count": 20,
   "id": "855e62c7-f221-4d55-84dd-65d2e740f35f",
   "metadata": {},
   "outputs": [
    {
     "data": {
      "text/plain": [
       "9.5"
      ]
     },
     "execution_count": 20,
     "metadata": {},
     "output_type": "execute_result"
    }
   ],
   "source": [
    "(ice_cream_rating + sleeping_rating) / 2"
   ]
  },
  {
   "cell_type": "code",
   "execution_count": 14,
   "id": "de0e71a9-dd29-4610-8064-13cf1187a332",
   "metadata": {},
   "outputs": [
    {
     "data": {
      "text/plain": [
       "str"
      ]
     },
     "execution_count": 14,
     "metadata": {},
     "output_type": "execute_result"
    }
   ],
   "source": [
    "type(ice_cream_rating)\n",
    "type(sleeping_rating)\n",
    "type(First_name)"
   ]
  },
  {
   "cell_type": "markdown",
   "id": "d6498f21-8352-4542-9c4e-cf0c9d2331c3",
   "metadata": {},
   "source": [
    "I didn't expect that type of data from the variables ice_cream_rating and sleeping_rating. I imagined they would have been int, as they are numbers and not characters."
   ]
  },
  {
   "cell_type": "code",
   "execution_count": 22,
   "id": "e9c9f575-e11c-408b-b939-38ef97948228",
   "metadata": {},
   "outputs": [
    {
     "name": "stdout",
     "output_type": "stream",
     "text": [
      "My name is Ferran and I give eating ice cream a score of 10 out of 10.\n",
      "I am ('Ferran', 'Cerdeira') and my sleeping enjoyment rating is 9 /10.\n",
      "Based on the factors above, my happiness rating is 9.5 out of 10, or 95 %!\n"
     ]
    }
   ],
   "source": [
    "print('My name is', First_name, 'and I give eating ice cream a score of', ice_cream_rating, 'out of 10.')\n",
    "print('I am', my_name, 'and my sleeping enjoyment rating is', sleeping_rating, '/10.')\n",
    "print('Based on the factors above, my happiness rating is', (ice_cream_rating + sleeping_rating) / 2, 'out of 10, or 95 %!')"
   ]
  }
 ],
 "metadata": {
  "kernelspec": {
   "display_name": "Python 3 (ipykernel)",
   "language": "python",
   "name": "python3"
  },
  "language_info": {
   "codemirror_mode": {
    "name": "ipython",
    "version": 3
   },
   "file_extension": ".py",
   "mimetype": "text/x-python",
   "name": "python",
   "nbconvert_exporter": "python",
   "pygments_lexer": "ipython3",
   "version": "3.8.10"
  }
 },
 "nbformat": 4,
 "nbformat_minor": 5
}
